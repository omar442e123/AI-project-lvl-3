{
 "cells": [
  {
   "cell_type": "code",
   "execution_count": 1,
   "id": "99188197",
   "metadata": {},
   "outputs": [
    {
     "ename": "ModuleNotFoundError",
     "evalue": "No module named 'sklearn'",
     "output_type": "error",
     "traceback": [
      "\u001b[31m---------------------------------------------------------------------------\u001b[39m",
      "\u001b[31mModuleNotFoundError\u001b[39m                       Traceback (most recent call last)",
      "\u001b[36mCell\u001b[39m\u001b[36m \u001b[39m\u001b[32mIn[1]\u001b[39m\u001b[32m, line 8\u001b[39m\n\u001b[32m      6\u001b[39m \u001b[38;5;28;01mimport\u001b[39;00m\u001b[38;5;250m \u001b[39m\u001b[34;01mmatplotlib\u001b[39;00m\u001b[34;01m.\u001b[39;00m\u001b[34;01mpyplot\u001b[39;00m\u001b[38;5;250m \u001b[39m\u001b[38;5;28;01mas\u001b[39;00m\u001b[38;5;250m \u001b[39m\u001b[34;01mplt\u001b[39;00m\n\u001b[32m      7\u001b[39m \u001b[38;5;66;03m# بنستورد MinMaxScaler و StandardScaler من sklearn علشان نستخدمهم في تحويل القيم (scaling)\u001b[39;00m\n\u001b[32m----> \u001b[39m\u001b[32m8\u001b[39m \u001b[38;5;28;01mfrom\u001b[39;00m\u001b[38;5;250m \u001b[39m\u001b[34;01msklearn\u001b[39;00m\u001b[34;01m.\u001b[39;00m\u001b[34;01mpreprocessing\u001b[39;00m\u001b[38;5;250m \u001b[39m\u001b[38;5;28;01mimport\u001b[39;00m MinMaxScaler, StandardScaler\n\u001b[32m      9\u001b[39m \u001b[38;5;66;03m# بنقرأ ملف titanic_preprocessed.csv ونختار منه عمودين بس: Age و Fare\u001b[39;00m\n\u001b[32m     10\u001b[39m \u001b[38;5;66;03m# بعدين بنشيل أي صف فيهم فيه قيمة ناقصة (NaN) باستخدام dropna()\u001b[39;00m\n\u001b[32m     11\u001b[39m \u001b[38;5;66;03m# وبنعمل نسخة مستقلة من الداتا باستخدام copy() علشان نشتغل عليها براحتنا\u001b[39;00m\n\u001b[32m     12\u001b[39m simple_skl = pd.read_csv(\u001b[33m'\u001b[39m\u001b[33mtitanic_preprocessed.csv\u001b[39m\u001b[33m'\u001b[39m)[[\u001b[33m'\u001b[39m\u001b[33mAge\u001b[39m\u001b[33m'\u001b[39m,\u001b[33m'\u001b[39m\u001b[33mFare\u001b[39m\u001b[33m'\u001b[39m]].dropna().copy()\n",
      "\u001b[31mModuleNotFoundError\u001b[39m: No module named 'sklearn'"
     ]
    }
   ],
   "source": [
    "# بنستورد مكتبة pandas علشان نستخدمها في التعامل مع البيانات (الجداول)\n",
    "import pandas as pd\n",
    "# بنستورد مكتبة numpy لو احتجنا عمليات رياضية متقدمة (مش مستخدمة هنا مباشرة)\n",
    "import numpy as np\n",
    "# بنستورد مكتبة matplotlib.pyplot علشان نرسم جرافيكس (رسومات بيانية)\n",
    "import matplotlib.pyplot as plt\n",
    "# بنستورد MinMaxScaler و StandardScaler من sklearn علشان نستخدمهم في تحويل القيم (scaling)\n",
    "from sklearn.preprocessing import MinMaxScaler, StandardScaler\n",
    "# بنقرأ ملف titanic_preprocessed.csv ونختار منه عمودين بس: Age و Fare\n",
    "# بعدين بنشيل أي صف فيهم فيه قيمة ناقصة (NaN) باستخدام dropna()\n",
    "# وبنعمل نسخة مستقلة من الداتا باستخدام copy() علشان نشتغل عليها براحتنا\n",
    "simple_skl = pd.read_csv('titanic_preprocessed.csv')[['Age','Fare']].dropna().copy()\n",
    "# بنعرض أول 5 صفوف من الداتا علشان نشوف شكلها بعد التحميل والتنظيف\n",
    "simple_skl.head()"
   ]
  }
 ],
 "metadata": {
  "kernelspec": {
   "display_name": "Python 3",
   "language": "python",
   "name": "python3"
  },
  "language_info": {
   "codemirror_mode": {
    "name": "ipython",
    "version": 3
   },
   "file_extension": ".py",
   "mimetype": "text/x-python",
   "name": "python",
   "nbconvert_exporter": "python",
   "pygments_lexer": "ipython3",
   "version": "3.13.1"
  }
 },
 "nbformat": 4,
 "nbformat_minor": 5
}
